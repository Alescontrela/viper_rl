{
 "cells": [
  {
   "attachments": {},
   "cell_type": "markdown",
   "metadata": {},
   "source": [
    "# Prepare Atari data for video model training."
   ]
  },
  {
   "cell_type": "code",
   "execution_count": 4,
   "metadata": {},
   "outputs": [],
   "source": [
    "import numpy as np\n",
    "import os\n",
    "import tqdm\n",
    "import random\n",
    "import shutil\n",
    "\n",
    "dataset = 'dmc'"
   ]
  },
  {
   "cell_type": "code",
   "execution_count": 6,
   "metadata": {},
   "outputs": [],
   "source": [
    "if dataset == 'dmc':\n",
    "    DATA_DIR = '/shared/ale/datasets/distill/dmc_unfiltered/'\n",
    "    SAVE_DIR = '/shared/ale/datasets/distill/VIPER_DATA/dmc/'\n",
    "    NUM_EPS_COMPUTE_STATS = 2000\n",
    "    MIN_EP_LEN = 549\n",
    "    MAX_EPISODES_PER_TASK = 500\n",
    "    REMOVE_FIRST_N_FRAMES = 50\n",
    "    FILTER_PERCENTILE = 90\n",
    "    TRAIN_SPLIT = 0.95\n",
    "\n",
    "    TASK_MAP = {\n",
    "        'dm_dmc_acrobot_swingup1678341981': 'acrobot_swingup',\n",
    "        'dm_dmc_cartpole_balance1678145672': 'cartpole_balance',\n",
    "        'dm_dmc_cartpole_swingup1678145708': 'cartpole_swingup',\n",
    "        'dm_dmc_cheetah_run1678145762': 'cheetah_run',\n",
    "        'dm_dmc_cup_catch1678145481': 'cup_catch',\n",
    "        'dm_dmc_finger_spin1678145861': 'finger_spin',\n",
    "        'dm_dmc_finger_turn_hard1678240045': 'finger_turn_hard',\n",
    "        'dm_dmc_manipulator_bring_ball1678386540': 'manipulator_bring_ball',\n",
    "        'dm_dmc_hopper_stand1678146024': 'hopper_stand',\n",
    "        'dm_dmc_pendulum_swingup1678238477': 'pendulum_swingup',\n",
    "        'dm_dmc_pointmass_easy1678146369': 'pointmass_easy',\n",
    "        'dm_dmc_pointmass_hard1678341667': 'pointmass_hard',\n",
    "        'dm_dmc_quadruped_run1678238524': 'quadruped_run',\n",
    "        'dm_dmc_quadruped_walk1678146538': 'quadruped_walk',\n",
    "        'dm_dmc_reacher_easy1678238931': 'reacher_easy',\n",
    "        'dm_dmc_reacher_hard1678238982': 'reacher_hard',\n",
    "        'dm_dmc_walker_walk1679516828': 'walker_walk'\n",
    "    }\n",
    "elif dataset == 'atari':\n",
    "    DATA_DIR = '/shared/ale/datasets/distill/distill/'\n",
    "    SAVE_DIR = '/shared/ale/datasets/distill/VIPER_DATA/atari/'\n",
    "    NUM_EPS_COMPUTE_STATS = 0\n",
    "    MIN_EP_LEN = 0\n",
    "    MAX_EPISODES_PER_TASK = 500\n",
    "    REMOVE_FIRST_N_FRAMES = 0\n",
    "    FILTER_PERCENTILE = -1\n",
    "    TRAIN_SPLIT = 0.95\n",
    "\n",
    "    TASK_MAP = {\n",
    "        'trajectories_assault_expert': 'assault',\n",
    "        'trajectories_atari_atlantis_expert': 'atlantis',\n",
    "        'trajectories_atari_defender_expert': 'defender',\n",
    "        'trajectories_atari_freeway_expert': 'freeway',\n",
    "        'trajectories_atari_kangaroo_expert': 'kangaroo',\n",
    "        'trajectories_boxing_expert': 'boxing',\n",
    "        'trajectories_pong_expert': 'pong',\n",
    "        'trajectories_zaxxon_expert': 'zaxxon',\n",
    "    }\n",
    "\n",
    "    os.makedirs(SAVE_DIR, exist_ok=True)"
   ]
  },
  {
   "cell_type": "code",
   "execution_count": 7,
   "metadata": {},
   "outputs": [
    {
     "name": "stdout",
     "output_type": "stream",
     "text": [
      "Processing task: dm_dmc_acrobot_swingup1678341981\n",
      "\tLoading episodes from /shared/ale/datasets/distill/dmc_unfiltered/dm_dmc_acrobot_swingup1678341981/saved_episodes\n",
      "\tFound 60812 episode files\n"
     ]
    },
    {
     "name": "stderr",
     "output_type": "stream",
     "text": [
      "100%|██████████| 2000/2000 [01:35<00:00, 20.99it/s]\n"
     ]
    },
    {
     "name": "stdout",
     "output_type": "stream",
     "text": [
      "\t90th percentile reward: 730.997802734375\n"
     ]
    },
    {
     "name": "stderr",
     "output_type": "stream",
     "text": [
      " 68%|██████▊   | 338/500 [2:12:50<1:03:40, 23.58s/it]\n"
     ]
    },
    {
     "name": "stdout",
     "output_type": "stream",
     "text": [
      "Processing task: dm_dmc_cartpole_balance1678145672\n",
      "\tLoading episodes from /shared/ale/datasets/distill/dmc_unfiltered/dm_dmc_cartpole_balance1678145672/saved_episodes\n",
      "\tFound 8292 episode files\n"
     ]
    },
    {
     "name": "stderr",
     "output_type": "stream",
     "text": [
      "100%|██████████| 2000/2000 [00:14<00:00, 136.22it/s]\n"
     ]
    },
    {
     "name": "stdout",
     "output_type": "stream",
     "text": [
      "\t90th percentile reward: 997.0733642578125\n"
     ]
    },
    {
     "name": "stderr",
     "output_type": "stream",
     "text": [
      "501it [04:04,  2.05it/s]00:00<?, ?it/s]\n",
      "501it [01:25,  3.03it/s]                         "
     ]
    },
    {
     "name": "stdout",
     "output_type": "stream",
     "text": [
      "Processing task: dm_dmc_cartpole_swingup1678145708\n",
      "\tLoading episodes from /shared/ale/datasets/distill/dmc_unfiltered/dm_dmc_cartpole_swingup1678145708/saved_episodes\n",
      "\tFound 8164 episode files\n"
     ]
    },
    {
     "name": "stderr",
     "output_type": "stream",
     "text": [
      "100%|██████████| 2000/2000 [00:16<00:00, 124.62it/s]\n"
     ]
    },
    {
     "name": "stdout",
     "output_type": "stream",
     "text": [
      "\t90th percentile reward: 861.6147705078125\n"
     ]
    },
    {
     "name": "stderr",
     "output_type": "stream",
     "text": [
      "501it [01:41,  4.95it/s]\n"
     ]
    },
    {
     "name": "stdout",
     "output_type": "stream",
     "text": [
      "Processing task: dm_dmc_cheetah_run1678145762\n",
      "\tLoading episodes from /shared/ale/datasets/distill/dmc_unfiltered/dm_dmc_cheetah_run1678145762/saved_episodes\n",
      "\tFound 12116 episode files\n"
     ]
    },
    {
     "name": "stderr",
     "output_type": "stream",
     "text": [
      "100%|██████████| 2000/2000 [01:19<00:00, 25.26it/s]\n"
     ]
    },
    {
     "name": "stdout",
     "output_type": "stream",
     "text": [
      "\t90th percentile reward: 918.5155883789063\n"
     ]
    },
    {
     "name": "stderr",
     "output_type": "stream",
     "text": [
      "501it [02:50,  2.93it/s]00:00<?, ?it/s]\n",
      "501it [04:06,  1.14it/s]                         "
     ]
    },
    {
     "name": "stdout",
     "output_type": "stream",
     "text": [
      "Processing task: dm_dmc_cup_catch1678145481\n",
      "\tLoading episodes from /shared/ale/datasets/distill/dmc_unfiltered/dm_dmc_cup_catch1678145481/saved_episodes\n",
      "\tFound 7012 episode files\n"
     ]
    },
    {
     "name": "stderr",
     "output_type": "stream",
     "text": [
      "100%|██████████| 2000/2000 [00:17<00:00, 115.51it/s]\n"
     ]
    },
    {
     "name": "stdout",
     "output_type": "stream",
     "text": [
      "\t90th percentile reward: 974.0\n"
     ]
    },
    {
     "name": "stderr",
     "output_type": "stream",
     "text": [
      "501it [04:24,  1.90it/s]\n"
     ]
    },
    {
     "name": "stdout",
     "output_type": "stream",
     "text": [
      "Processing task: dm_dmc_finger_spin1678145861\n",
      "\tLoading episodes from /shared/ale/datasets/distill/dmc_unfiltered/dm_dmc_finger_spin1678145861/saved_episodes\n",
      "\tFound 12028 episode files\n"
     ]
    },
    {
     "name": "stderr",
     "output_type": "stream",
     "text": [
      "100%|██████████| 2000/2000 [01:13<00:00, 27.26it/s]\n"
     ]
    },
    {
     "name": "stdout",
     "output_type": "stream",
     "text": [
      "\t90th percentile reward: 983.0\n"
     ]
    },
    {
     "name": "stderr",
     "output_type": "stream",
     "text": [
      "501it [02:40,  3.13it/s]00:00<?, ?it/s]\n",
      "501it [03:08,  2.17it/s]                         "
     ]
    },
    {
     "name": "stdout",
     "output_type": "stream",
     "text": [
      "Processing task: dm_dmc_finger_turn_hard1678240045\n",
      "\tLoading episodes from /shared/ale/datasets/distill/dmc_unfiltered/dm_dmc_finger_turn_hard1678240045/saved_episodes\n",
      "\tFound 4768 episode files\n"
     ]
    },
    {
     "name": "stderr",
     "output_type": "stream",
     "text": [
      "100%|██████████| 2000/2000 [00:40<00:00, 49.03it/s]\n"
     ]
    },
    {
     "name": "stdout",
     "output_type": "stream",
     "text": [
      "\t90th percentile reward: 986.0\n"
     ]
    },
    {
     "name": "stderr",
     "output_type": "stream",
     "text": [
      "501it [03:49,  2.18it/s]\n"
     ]
    },
    {
     "name": "stdout",
     "output_type": "stream",
     "text": [
      "Processing task: dm_dmc_manipulator_bring_ball1678386540\n",
      "\tLoading episodes from /shared/ale/datasets/distill/dmc_unfiltered/dm_dmc_manipulator_bring_ball1678386540/saved_episodes\n",
      "\tFound 23324 episode files\n"
     ]
    },
    {
     "name": "stderr",
     "output_type": "stream",
     "text": [
      "100%|██████████| 2000/2000 [01:14<00:00, 26.83it/s]\n"
     ]
    },
    {
     "name": "stdout",
     "output_type": "stream",
     "text": [
      "\t90th percentile reward: 242.0665390014653\n"
     ]
    },
    {
     "name": "stderr",
     "output_type": "stream",
     "text": [
      "501it [03:15,  2.57it/s]00:00<?, ?it/s]\n",
      "501it [03:08,  1.83it/s]                         "
     ]
    },
    {
     "name": "stdout",
     "output_type": "stream",
     "text": [
      "Processing task: dm_dmc_hopper_stand1678146024\n",
      "\tLoading episodes from /shared/ale/datasets/distill/dmc_unfiltered/dm_dmc_hopper_stand1678146024/saved_episodes\n",
      "\tFound 8248 episode files\n"
     ]
    },
    {
     "name": "stderr",
     "output_type": "stream",
     "text": [
      "100%|██████████| 2000/2000 [00:35<00:00, 55.86it/s]\n"
     ]
    },
    {
     "name": "stdout",
     "output_type": "stream",
     "text": [
      "\t90th percentile reward: 956.372509765625\n"
     ]
    },
    {
     "name": "stderr",
     "output_type": "stream",
     "text": [
      "501it [03:44,  2.23it/s]\n"
     ]
    },
    {
     "name": "stdout",
     "output_type": "stream",
     "text": [
      "Processing task: dm_dmc_pendulum_swingup1678238477\n",
      "\tLoading episodes from /shared/ale/datasets/distill/dmc_unfiltered/dm_dmc_pendulum_swingup1678238477/saved_episodes\n",
      "\tFound 5396 episode files\n"
     ]
    },
    {
     "name": "stderr",
     "output_type": "stream",
     "text": [
      "100%|██████████| 2000/2000 [00:02<00:00, 969.73it/s] \n"
     ]
    },
    {
     "name": "stdout",
     "output_type": "stream",
     "text": [
      "\t90th percentile reward: 940.0\n"
     ]
    },
    {
     "name": "stderr",
     "output_type": "stream",
     "text": [
      "501it [02:19,  3.59it/s]00:00<?, ?it/s]\n",
      "501it [00:53,  8.75it/s]                         "
     ]
    },
    {
     "name": "stdout",
     "output_type": "stream",
     "text": [
      "Processing task: dm_dmc_pointmass_easy1678146369\n",
      "\tLoading episodes from /shared/ale/datasets/distill/dmc_unfiltered/dm_dmc_pointmass_easy1678146369/saved_episodes\n",
      "\tFound 6760 episode files\n"
     ]
    },
    {
     "name": "stderr",
     "output_type": "stream",
     "text": [
      "100%|██████████| 2000/2000 [00:02<00:00, 857.69it/s]\n"
     ]
    },
    {
     "name": "stdout",
     "output_type": "stream",
     "text": [
      "\t90th percentile reward: 937.4158935546875\n"
     ]
    },
    {
     "name": "stderr",
     "output_type": "stream",
     "text": [
      "501it [00:55,  9.01it/s]\n"
     ]
    },
    {
     "name": "stdout",
     "output_type": "stream",
     "text": [
      "Processing task: dm_dmc_pointmass_hard1678341667\n",
      "\tLoading episodes from /shared/ale/datasets/distill/dmc_unfiltered/dm_dmc_pointmass_hard1678341667/saved_episodes\n",
      "\tFound 8432 episode files\n"
     ]
    },
    {
     "name": "stderr",
     "output_type": "stream",
     "text": [
      "100%|██████████| 2000/2000 [00:31<00:00, 63.59it/s] \n"
     ]
    },
    {
     "name": "stdout",
     "output_type": "stream",
     "text": [
      "\t90th percentile reward: 898.4111328125\n"
     ]
    },
    {
     "name": "stderr",
     "output_type": "stream",
     "text": [
      "501it [01:19,  6.33it/s]00:00<?, ?it/s]\n",
      "501it [01:36,  3.17it/s]                         "
     ]
    },
    {
     "name": "stdout",
     "output_type": "stream",
     "text": [
      "Processing task: dm_dmc_quadruped_run1678238524\n",
      "\tLoading episodes from /shared/ale/datasets/distill/dmc_unfiltered/dm_dmc_quadruped_run1678238524/saved_episodes\n",
      "\tFound 9816 episode files\n"
     ]
    },
    {
     "name": "stderr",
     "output_type": "stream",
     "text": [
      "100%|██████████| 2000/2000 [02:12<00:00, 15.05it/s]\n"
     ]
    },
    {
     "name": "stdout",
     "output_type": "stream",
     "text": [
      "\t90th percentile reward: 950.9744995117187\n"
     ]
    },
    {
     "name": "stderr",
     "output_type": "stream",
     "text": [
      "501it [03:49,  2.18it/s]\n"
     ]
    },
    {
     "name": "stdout",
     "output_type": "stream",
     "text": [
      "Processing task: dm_dmc_quadruped_walk1678146538\n",
      "\tLoading episodes from /shared/ale/datasets/distill/dmc_unfiltered/dm_dmc_quadruped_walk1678146538/saved_episodes\n",
      "\tFound 10916 episode files\n"
     ]
    },
    {
     "name": "stderr",
     "output_type": "stream",
     "text": [
      "100%|██████████| 2000/2000 [02:11<00:00, 15.22it/s]\n"
     ]
    },
    {
     "name": "stdout",
     "output_type": "stream",
     "text": [
      "\t90th percentile reward: 974.7005432128907\n"
     ]
    },
    {
     "name": "stderr",
     "output_type": "stream",
     "text": [
      "501it [11:33,  1.38s/it]00:00<?, ?it/s]\n",
      "501it [07:29,  1.24it/s]                         "
     ]
    },
    {
     "name": "stdout",
     "output_type": "stream",
     "text": [
      "Processing task: dm_dmc_reacher_easy1678238931\n",
      "\tLoading episodes from /shared/ale/datasets/distill/dmc_unfiltered/dm_dmc_reacher_easy1678238931/saved_episodes\n",
      "\tFound 4812 episode files\n"
     ]
    },
    {
     "name": "stderr",
     "output_type": "stream",
     "text": [
      "100%|██████████| 2000/2000 [00:23<00:00, 83.44it/s] \n"
     ]
    },
    {
     "name": "stdout",
     "output_type": "stream",
     "text": [
      "\t90th percentile reward: 990.0\n"
     ]
    },
    {
     "name": "stderr",
     "output_type": "stream",
     "text": [
      "501it [07:53,  1.06it/s]\n"
     ]
    },
    {
     "name": "stdout",
     "output_type": "stream",
     "text": [
      "Processing task: dm_dmc_reacher_hard1678238982\n",
      "\tLoading episodes from /shared/ale/datasets/distill/dmc_unfiltered/dm_dmc_reacher_hard1678238982/saved_episodes\n",
      "\tFound 4820 episode files\n"
     ]
    },
    {
     "name": "stderr",
     "output_type": "stream",
     "text": [
      "100%|██████████| 2000/2000 [00:17<00:00, 111.49it/s]\n"
     ]
    },
    {
     "name": "stdout",
     "output_type": "stream",
     "text": [
      "\t90th percentile reward: 981.0\n"
     ]
    },
    {
     "name": "stderr",
     "output_type": "stream",
     "text": [
      "501it [01:38,  5.10it/s]00:00<?, ?it/s]\n",
      " 94%|█████████▍| 469/500 [01:14<00:07,  3.93it/s]"
     ]
    },
    {
     "name": "stdout",
     "output_type": "stream",
     "text": [
      "Processing task: dm_dmc_walker_walk1679516828\n",
      "\tLoading episodes from /shared/ale/datasets/distill/dmc_unfiltered/dm_dmc_walker_walk1679516828/saved_episodes\n",
      "\tFound 523 episode files\n"
     ]
    },
    {
     "name": "stderr",
     "output_type": "stream",
     "text": [
      "100%|██████████| 523/523 [00:25<00:00, 20.90it/s]\n"
     ]
    },
    {
     "name": "stdout",
     "output_type": "stream",
     "text": [
      "\t90th percentile reward: 750.7719116210938\n"
     ]
    },
    {
     "name": "stderr",
     "output_type": "stream",
     "text": [
      " 94%|█████████▍| 469/500 [01:39<00:06,  4.71it/s]\n"
     ]
    }
   ],
   "source": [
    "for task in TASK_MAP:\n",
    "    print('Processing task: {}'.format(task))\n",
    "    episode_dir = os.path.join(DATA_DIR, task, \"saved_episodes\")\n",
    "    episode_files = os.listdir(episode_dir)\n",
    "    random.shuffle(episode_files)\n",
    "    print(f'\\tLoading episodes from {episode_dir}')\n",
    "    print(f'\\tFound {len(episode_files)} episode files')\n",
    "    save_dir = os.path.join(SAVE_DIR, TASK_MAP[task])\n",
    "\n",
    "    rewards = []\n",
    "    for episode in tqdm.tqdm(episode_files[:NUM_EPS_COMPUTE_STATS]):\n",
    "        with open(os.path.join(episode_dir, episode), \"rb\") as f:\n",
    "            data = np.load(f)\n",
    "            if len(data['reward']) < MIN_EP_LEN:\n",
    "                continue\n",
    "            reward = np.sum(data['reward'])\n",
    "            rewards.append(reward)\n",
    "    if FILTER_PERCENTILE == -1:\n",
    "        rew_percentile = -float('inf')\n",
    "    else:\n",
    "        rew_percentile = np.percentile(rewards, FILTER_PERCENTILE)\n",
    "        print(f'\\t{FILTER_PERCENTILE}th percentile reward: {rew_percentile}')\n",
    "    num_episodes_saved = 0\n",
    "    pbar = tqdm.tqdm(total=MAX_EPISODES_PER_TASK)\n",
    "\n",
    "    for episode in episode_files:\n",
    "        if num_episodes_saved > MAX_EPISODES_PER_TASK:\n",
    "            break\n",
    "        with open(os.path.join(episode_dir, episode), \"rb\") as f:\n",
    "            data = np.load(f)\n",
    "            if len(data['reward']) < MIN_EP_LEN:\n",
    "                continue\n",
    "            reward = np.sum(data['reward'])\n",
    "            try:\n",
    "                if reward >= rew_percentile and len(data['reward']) >= MIN_EP_LEN:\n",
    "                    if not os.path.exists(save_dir):\n",
    "                        os.makedirs(save_dir)\n",
    "                    np.savez_compressed(os.path.join(save_dir, episode), data['image'][REMOVE_FIRST_N_FRAMES:])\n",
    "                    num_episodes_saved += 1\n",
    "                    pbar.update(1)\n",
    "            except:\n",
    "                continue\n"
   ]
  },
  {
   "cell_type": "code",
   "execution_count": null,
   "metadata": {},
   "outputs": [],
   "source": [
    "for task in TASK_MAP:\n",
    "    episode_dir = os.path.join(SAVE_DIR, TASK_MAP[task])\n",
    "    episode_files = os.listdir(episode_dir)\n",
    "    random.shuffle(episode_files)\n",
    "    train_files = episode_files[:int(TRAIN_SPLIT * len(episode_files))]\n",
    "    test_files = episode_files[int(TRAIN_SPLIT * len(episode_files)):]\n",
    "\n",
    "    train_save_dir = os.path.join(SAVE_DIR, TASK_MAP[task], 'train')\n",
    "    test_save_dir = os.path.join(SAVE_DIR, TASK_MAP[task], 'test')\n",
    "    os.makedirs(train_save_dir, exist_ok=True)\n",
    "    os.makedirs(test_save_dir, exist_ok=True)\n",
    "\n",
    "    for train_file in train_files:\n",
    "        shutil.move(os.path.join(episode_dir, train_file), os.path.join(train_save_dir, train_file))\n",
    "    \n",
    "    for test_file in test_files:\n",
    "        shutil.move(os.path.join(episode_dir, test_file), os.path.join(test_save_dir, test_file))"
   ]
  },
  {
   "cell_type": "code",
   "execution_count": null,
   "metadata": {},
   "outputs": [],
   "source": []
  }
 ],
 "metadata": {
  "kernelspec": {
   "display_name": "bp2",
   "language": "python",
   "name": "python3"
  },
  "language_info": {
   "codemirror_mode": {
    "name": "ipython",
    "version": 3
   },
   "file_extension": ".py",
   "mimetype": "text/x-python",
   "name": "python",
   "nbconvert_exporter": "python",
   "pygments_lexer": "ipython3",
   "version": "3.8.16"
  },
  "orig_nbformat": 4
 },
 "nbformat": 4,
 "nbformat_minor": 2
}
